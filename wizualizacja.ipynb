{
 "cells": [
  {
   "cell_type": "code",
   "execution_count": 1,
   "metadata": {
    "_cell_guid": "b1076dfc-b9ad-4769-8c92-a6c4dae69d19",
    "_uuid": "8f2839f25d086af736a60e9eeb907d3b93b6e0e5",
    "execution": {
     "iopub.execute_input": "2021-01-23T13:07:13.285533Z",
     "iopub.status.busy": "2021-01-23T13:07:13.284859Z",
     "iopub.status.idle": "2021-01-23T13:07:13.303594Z",
     "shell.execute_reply": "2021-01-23T13:07:13.302389Z"
    },
    "papermill": {
     "duration": 0.041623,
     "end_time": "2021-01-23T13:07:13.303809",
     "exception": false,
     "start_time": "2021-01-23T13:07:13.262186",
     "status": "completed"
    },
    "tags": []
   },
   "outputs": [
    {
     "name": "stdout",
     "output_type": "stream",
     "text": [
      "/kaggle/input/antalgorithm/wyniki (1).xlsx\n"
     ]
    }
   ],
   "source": [
    "# This Python 3 environment comes with many helpful analytics libraries installed\n",
    "# It is defined by the kaggle/python Docker image: https://github.com/kaggle/docker-python\n",
    "# For example, here's several helpful packages to load\n",
    "\n",
    "import numpy as np # linear algebra\n",
    "import pandas as pd # data processing, CSV file I/O (e.g. pd.read_csv)\n",
    "import matplotlib.pyplot as plt\n",
    "# Input data files are available in the read-only \"../input/\" directory\n",
    "# For example, running this (by clicking run or pressing Shift+Enter) will list all files under the input directory\n",
    "\n",
    "import os\n",
    "for dirname, _, filenames in os.walk('/kaggle/input'):\n",
    "    for filename in filenames:\n",
    "        print(os.path.join(dirname, filename))\n",
    "\n",
    "# You can write up to 20GB to the current directory (/kaggle/working/) that gets preserved as output when you create a version using \"Save & Run All\" \n",
    "# You can also write temporary files to /kaggle/temp/, but they won't be saved outside of the current session"
   ]
  },
  {
   "cell_type": "code",
   "execution_count": 2,
   "metadata": {
    "execution": {
     "iopub.execute_input": "2021-01-23T13:07:13.337418Z",
     "iopub.status.busy": "2021-01-23T13:07:13.336367Z",
     "iopub.status.idle": "2021-01-23T13:07:13.340201Z",
     "shell.execute_reply": "2021-01-23T13:07:13.339513Z"
    },
    "papermill": {
     "duration": 0.023304,
     "end_time": "2021-01-23T13:07:13.340317",
     "exception": false,
     "start_time": "2021-01-23T13:07:13.317013",
     "status": "completed"
    },
    "tags": []
   },
   "outputs": [],
   "source": [
    "def nameGenerator():\n",
    "    names = []\n",
    "    vs = [str(20*(k+1)) for k in range(10)]\n",
    "    ms = 'iteracji'\n",
    "    ps = ['10-3','1-8']\n",
    "    for p in ps:\n",
    "            for v in vs:\n",
    "                name = '{} {} {}'.format(v,ms,p)\n",
    "                names.append(name)\n",
    "    return names\n",
    "names =  nameGenerator()"
   ]
  },
  {
   "cell_type": "code",
   "execution_count": 3,
   "metadata": {
    "execution": {
     "iopub.execute_input": "2021-01-23T13:07:13.373369Z",
     "iopub.status.busy": "2021-01-23T13:07:13.372553Z",
     "iopub.status.idle": "2021-01-23T13:07:13.376454Z",
     "shell.execute_reply": "2021-01-23T13:07:13.375819Z"
    },
    "papermill": {
     "duration": 0.023164,
     "end_time": "2021-01-23T13:07:13.376571",
     "exception": false,
     "start_time": "2021-01-23T13:07:13.353407",
     "status": "completed"
    },
    "tags": []
   },
   "outputs": [
    {
     "data": {
      "text/plain": [
       "['20 iteracji 10-3',\n",
       " '40 iteracji 10-3',\n",
       " '60 iteracji 10-3',\n",
       " '80 iteracji 10-3',\n",
       " '100 iteracji 10-3',\n",
       " '120 iteracji 10-3',\n",
       " '140 iteracji 10-3',\n",
       " '160 iteracji 10-3',\n",
       " '180 iteracji 10-3',\n",
       " '200 iteracji 10-3',\n",
       " '20 iteracji 1-8',\n",
       " '40 iteracji 1-8',\n",
       " '60 iteracji 1-8',\n",
       " '80 iteracji 1-8',\n",
       " '100 iteracji 1-8',\n",
       " '120 iteracji 1-8',\n",
       " '140 iteracji 1-8',\n",
       " '160 iteracji 1-8',\n",
       " '180 iteracji 1-8',\n",
       " '200 iteracji 1-8']"
      ]
     },
     "execution_count": 3,
     "metadata": {},
     "output_type": "execute_result"
    }
   ],
   "source": [
    "names"
   ]
  },
  {
   "cell_type": "code",
   "execution_count": 4,
   "metadata": {
    "execution": {
     "iopub.execute_input": "2021-01-23T13:07:13.409428Z",
     "iopub.status.busy": "2021-01-23T13:07:13.408406Z",
     "iopub.status.idle": "2021-01-23T13:07:13.411814Z",
     "shell.execute_reply": "2021-01-23T13:07:13.411218Z"
    },
    "papermill": {
     "duration": 0.022646,
     "end_time": "2021-01-23T13:07:13.411935",
     "exception": false,
     "start_time": "2021-01-23T13:07:13.389289",
     "status": "completed"
    },
    "tags": []
   },
   "outputs": [],
   "source": [
    "def autolabel(rects,ax):\n",
    "    for rect in rects:\n",
    "        height = rect.get_height()\n",
    "        ax.text(rect.get_x() + rect.get_width()/2., 1.01*height,'%.2f' % float(height),ha='center', va='bottom')"
   ]
  },
  {
   "cell_type": "code",
   "execution_count": 5,
   "metadata": {
    "execution": {
     "iopub.execute_input": "2021-01-23T13:07:13.454720Z",
     "iopub.status.busy": "2021-01-23T13:07:13.449550Z",
     "iopub.status.idle": "2021-01-23T13:07:13.466096Z",
     "shell.execute_reply": "2021-01-23T13:07:13.465483Z"
    },
    "papermill": {
     "duration": 0.040549,
     "end_time": "2021-01-23T13:07:13.466211",
     "exception": false,
     "start_time": "2021-01-23T13:07:13.425662",
     "status": "completed"
    },
    "tags": []
   },
   "outputs": [],
   "source": [
    "def average(df):\n",
    "    result = pd.DataFrame(columns=['alfa','beta','wyparowywanie','czynnikLosowy','czas','wynik'])\n",
    "    for x in range(1470):  #1470\n",
    "        alfa = (df.loc[5*x]['alfa'] +df.loc[5*x +1]['alfa'] +df.loc[5*x +2]['alfa'] +df.loc[5*x +3]['alfa'] + df.loc[5*x +4]['alfa'])/5\n",
    "        beta = (df.loc[5*x]['beta'] +df.loc[5*x +1]['beta'] +df.loc[5*x +2]['beta'] +df.loc[5*x +3]['beta'] + df.loc[5*x +4]['beta'])/5\n",
    "        wyparowywanie = (df.loc[5*x]['wyparowywanie'] +df.loc[5*x +1]['wyparowywanie'] +df.loc[5*x +2]['wyparowywanie'] +df.loc[5*x +3]['wyparowywanie'] + df.loc[5*x +4]['wyparowywanie'])/5\n",
    "        czynnikLosowy = (df.loc[5*x]['czynnikLosowy'] +df.loc[5*x +1]['czynnikLosowy'] +df.loc[5*x +2]['czynnikLosowy'] +df.loc[5*x +3]['czynnikLosowy'] + df.loc[5*x +4]['czynnikLosowy'])/5\n",
    "        czas = (df.loc[5*x]['czas'] +df.loc[5*x +1]['czas'] +df.loc[5*x +2]['czas'] +df.loc[5*x +3]['czas'] + df.loc[5*x +4]['czas'])/5\n",
    "        wynik = (df.loc[5*x]['wynik'] +df.loc[5*x +1]['wynik'] +df.loc[5*x +2]['wynik'] +df.loc[5*x +3]['wynik'] + df.loc[5*x +4]['wynik'])/5\n",
    "        result = result.append(pd.DataFrame(np.reshape([alfa,beta,wyparowywanie,czynnikLosowy,czas,wynik],(1,6)),columns=['alfa','beta','wyparowywanie','czynnikLosowy','czas','wynik']),ignore_index=True)\n",
    "    return result"
   ]
  },
  {
   "cell_type": "code",
   "execution_count": 6,
   "metadata": {
    "execution": {
     "iopub.execute_input": "2021-01-23T13:07:13.508178Z",
     "iopub.status.busy": "2021-01-23T13:07:13.506040Z",
     "iopub.status.idle": "2021-01-23T13:07:13.511172Z",
     "shell.execute_reply": "2021-01-23T13:07:13.511716Z"
    },
    "papermill": {
     "duration": 0.032607,
     "end_time": "2021-01-23T13:07:13.511869",
     "exception": false,
     "start_time": "2021-01-23T13:07:13.479262",
     "status": "completed"
    },
    "tags": []
   },
   "outputs": [],
   "source": [
    "def drawAlfa(df0 ,df1,beta,wyparowywanie,czynnikLosowy,iter1,iter2,wierzcholki):\n",
    "    df00 = df0[(df0['beta']==beta) & (df0['wyparowywanie']==wyparowywanie) &(df0['czynnikLosowy']==czynnikLosowy)]\n",
    "    df11= df1[(df1['beta']==beta) & (df1['wyparowywanie']==wyparowywanie ) &(df1['czynnikLosowy']==czynnikLosowy)]\n",
    "    fig = plt.figure(figsize=(20,10))\n",
    "    ax = fig.add_axes([0,0,1,1])\n",
    "\n",
    "    bar = ax.bar([(0.25*(k+1)) for k in range(6)],df00['wynik'],width=0.08,color='b')\n",
    "    autolabel(bar,ax)\n",
    "    bar = ax.bar([(0.25*(k+1.32)) for k in range(6)] , df11['wynik'], width = 0.08,color='r')\n",
    "    autolabel(bar,ax)\n",
    "    for spine in ax.spines.values():\n",
    "        spine.set_visible(False)\n",
    "    ax.set_title('{}(niebieski) i {}(czerwony) iteracji po parametrze alfa,beta={},wyparowywanie={},czynnik losowy={}  wierzcholki {}'.format(iter1,iter2,str(beta),str(wyparowywanie),str(czynnikLosowy),wierzcholki))\n",
    "    ax.set_xticks([(0.25*(k+1.16)) for k in range(6)])\n",
    "    ax.set_xticklabels([str(0.25*(k+1)) for k in range(6)])\n",
    "    plt.show()\n",
    "    fig.savefig('{}(niebieski) i {}(czerwony) iteracji po parametrze alfa,beta={},wyparowywanie={},czynnik losowy={}  wierzcholki {}.jpg'.format(iter1,iter2,str(beta),str(wyparowywanie),str(czynnikLosowy),wierzcholki),bbox_inches='tight')"
   ]
  },
  {
   "cell_type": "code",
   "execution_count": 7,
   "metadata": {
    "execution": {
     "iopub.execute_input": "2021-01-23T13:07:13.553930Z",
     "iopub.status.busy": "2021-01-23T13:07:13.549292Z",
     "iopub.status.idle": "2021-01-23T13:07:13.557399Z",
     "shell.execute_reply": "2021-01-23T13:07:13.556629Z"
    },
    "papermill": {
     "duration": 0.032421,
     "end_time": "2021-01-23T13:07:13.557534",
     "exception": false,
     "start_time": "2021-01-23T13:07:13.525113",
     "status": "completed"
    },
    "tags": []
   },
   "outputs": [],
   "source": [
    "def drawBeta(df0 ,df1,alfa,wyparowywanie,czynnikLosowy,iter1,iter2,wierzcholki):\n",
    "    df00 = df0[(df0['alfa']==alfa) & (df0['wyparowywanie']==wyparowywanie) &(df0['czynnikLosowy']==czynnikLosowy)]\n",
    "    df11= df1[(df1['alfa']==alfa) & (df1['wyparowywanie']==wyparowywanie ) &(df1['czynnikLosowy']==czynnikLosowy)]\n",
    "    fig = plt.figure(figsize=(20,10))\n",
    "    ax = fig.add_axes([0,0,1,1])\n",
    "\n",
    "    bar = ax.bar([(0.25*(k+1)) for k in range(5)],df00['wynik'],width=0.08,color='b')\n",
    "    autolabel(bar,ax)\n",
    "    bar = ax.bar([(0.25*(k+1.32)) for k in range(5)] , df11['wynik'], width = 0.08,color='r')\n",
    "    autolabel(bar,ax)\n",
    "    for spine in ax.spines.values():\n",
    "        spine.set_visible(False)\n",
    "    ax.set_title('{}(niebieski) i {}(czerwony) iteracji po parametrze beta,alfa={},wyparowywanie={},czynnik losowy={}  wierzcholki {}'.format(iter1,iter2,str(alfa),str(wyparowywanie),str(czynnikLosowy),wierzcholki))\n",
    "    ax.set_xticks([(0.25*(k+1.16)) for k in range(5)])\n",
    "    ax.set_xticklabels([str(k+2) for k in range(5)])\n",
    "    plt.show()\n",
    "    fig.savefig('{}(niebieski) i {}(czerwony) iteracji po parametrze beta,alfa={},wyparowywanie={},czynnik losowy={}  wierzcholki {}.jpg'.format(iter1,iter2,str(alfa),str(wyparowywanie),str(czynnikLosowy),wierzcholki),bbox_inches='tight')"
   ]
  },
  {
   "cell_type": "code",
   "execution_count": 8,
   "metadata": {
    "execution": {
     "iopub.execute_input": "2021-01-23T13:07:13.597121Z",
     "iopub.status.busy": "2021-01-23T13:07:13.596345Z",
     "iopub.status.idle": "2021-01-23T13:07:13.603365Z",
     "shell.execute_reply": "2021-01-23T13:07:13.602786Z"
    },
    "papermill": {
     "duration": 0.032473,
     "end_time": "2021-01-23T13:07:13.603474",
     "exception": false,
     "start_time": "2021-01-23T13:07:13.571001",
     "status": "completed"
    },
    "tags": []
   },
   "outputs": [],
   "source": [
    "def drawWyparowanie(df0 ,df1,alfa,beta,czynnikLosowy,iter1,iter2,wierzcholki):\n",
    "    df00 = df0[(df0['alfa']==alfa) & (df0['beta']==beta) &(df0['czynnikLosowy']==czynnikLosowy)]\n",
    "    df11= df1[(df1['alfa']==alfa) & (df1['beta']==beta ) &(df1['czynnikLosowy']==czynnikLosowy)]\n",
    "    fig = plt.figure(figsize=(20,10))\n",
    "    ax = fig.add_axes([0,0,1,1])\n",
    "\n",
    "    bar = ax.bar([(0.25*(k+1)) for k in range(7)],df00['wynik'],width=0.08,color='b')\n",
    "    autolabel(bar,ax)\n",
    "    bar = ax.bar([(0.25*(k+1.32)) for k in range(7)] , df11['wynik'], width = 0.08,color='r')\n",
    "    autolabel(bar,ax)\n",
    "    for spine in ax.spines.values():\n",
    "        spine.set_visible(False)\n",
    "    ax.set_title('{}(niebieski) i {}(czerwony) iteracji po parametrze wyparowywanie,alfa={},beta={},czynnik losowy={}  wierzcholki {}'.format(iter1,iter2,str(alfa),str(beta),str(czynnikLosowy),wierzcholki))\n",
    "    ax.set_xticks([(0.25*(k+1.16)) for k in range(7)])\n",
    "    ax.set_xticklabels([str(round(k*0.1+0.2, 1)) for k in range(7)])\n",
    "    plt.show()\n",
    "    fig.savefig('{}(niebieski) i {}(czerwony) iteracji po parametrze wyparowywanie,alfa={},beta={},czynnik losowy={}  wierzcholki {}.jpg'.format(iter1,iter2,str(alfa),str(beta),str(czynnikLosowy),wierzcholki),bbox_inches='tight')"
   ]
  },
  {
   "cell_type": "code",
   "execution_count": 9,
   "metadata": {
    "execution": {
     "iopub.execute_input": "2021-01-23T13:07:13.648046Z",
     "iopub.status.busy": "2021-01-23T13:07:13.647177Z",
     "iopub.status.idle": "2021-01-23T13:07:13.650299Z",
     "shell.execute_reply": "2021-01-23T13:07:13.649776Z"
    },
    "papermill": {
     "duration": 0.033064,
     "end_time": "2021-01-23T13:07:13.650414",
     "exception": false,
     "start_time": "2021-01-23T13:07:13.617350",
     "status": "completed"
    },
    "tags": []
   },
   "outputs": [],
   "source": [
    "def drawLosowy(df0 ,df1,alfa,beta,wyparowywanie,iter1,iter2,wierzcholki):\n",
    "    df00 = df0[(df0['alfa']==alfa) & (df0['beta']==beta) &(df0['wyparowywanie']==wyparowywanie)]\n",
    "    df11= df1[(df1['alfa']==alfa) & (df1['beta']==beta ) &(df1['wyparowywanie']==wyparowywanie)]\n",
    "    fig = plt.figure(figsize=(20,10))\n",
    "    ax = fig.add_axes([0,0,1,1])\n",
    "\n",
    "    bar = ax.bar([(0.25*(k+1)) for k in range(7)],df00['wynik'],width=0.08,color='b')\n",
    "    autolabel(bar,ax)\n",
    "    bar = ax.bar([(0.25*(k+1.32)) for k in range(7)] , df11['wynik'], width = 0.08,color='r')\n",
    "    autolabel(bar,ax)\n",
    "    for spine in ax.spines.values():\n",
    "        spine.set_visible(False)\n",
    "    ax.set_title('{}(niebieski) i {}(czerwony) iteracji po parametrze czynnik losowy,alfa={},beta={},wyparowywanie={}  wierzcholki {}'.format(iter1,iter2,str(alfa),str(beta),str(wyparowywanie),wierzcholki))\n",
    "    ax.set_xticks([(0.25*(k+1.16)) for k in range(7)])\n",
    "    ax.set_xticklabels([str(round(k*0.005+0.005, 3)) for k in range(7)])\n",
    "    plt.show()\n",
    "    fig.savefig('{}(niebieski) i {}(czerwony) iteracji po parametrze czynnik losowy,alfa={},beta={},wyparowywanie={}  wierzcholki {}.jpg'.format(iter1,iter2,str(alfa),str(beta),str(wyparowywanie),wierzcholki),bbox_inches='tight')"
   ]
  },
  {
   "cell_type": "code",
   "execution_count": 10,
   "metadata": {
    "execution": {
     "iopub.execute_input": "2021-01-23T13:07:13.684176Z",
     "iopub.status.busy": "2021-01-23T13:07:13.683468Z",
     "iopub.status.idle": "2021-01-23T13:07:53.057986Z",
     "shell.execute_reply": "2021-01-23T13:07:53.057287Z"
    },
    "papermill": {
     "duration": 39.393918,
     "end_time": "2021-01-23T13:07:53.058113",
     "exception": false,
     "start_time": "2021-01-23T13:07:13.664195",
     "status": "completed"
    },
    "tags": []
   },
   "outputs": [],
   "source": [
    "df20 = pd.read_excel(open('/kaggle/input/antalgorithm/wyniki (1).xlsx', 'rb'),sheet_name=names[0])\n",
    "df200 = pd.read_excel(open('/kaggle/input/antalgorithm/wyniki (1).xlsx', 'rb'),sheet_name=names[9]) "
   ]
  },
  {
   "cell_type": "code",
   "execution_count": 11,
   "metadata": {
    "execution": {
     "iopub.execute_input": "2021-01-23T13:07:53.129965Z",
     "iopub.status.busy": "2021-01-23T13:07:53.128040Z",
     "iopub.status.idle": "2021-01-23T13:08:09.905845Z",
     "shell.execute_reply": "2021-01-23T13:08:09.906345Z"
    },
    "papermill": {
     "duration": 16.834268,
     "end_time": "2021-01-23T13:08:09.906509",
     "exception": false,
     "start_time": "2021-01-23T13:07:53.072241",
     "status": "completed"
    },
    "tags": []
   },
   "outputs": [],
   "source": [
    "adf20 = average(df20)\n",
    "adf200 = average(df200)"
   ]
  },
  {
   "cell_type": "code",
   "execution_count": 12,
   "metadata": {
    "execution": {
     "iopub.execute_input": "2021-01-23T13:08:09.946009Z",
     "iopub.status.busy": "2021-01-23T13:08:09.944220Z",
     "iopub.status.idle": "2021-01-23T13:08:09.948430Z",
     "shell.execute_reply": "2021-01-23T13:08:09.947894Z"
    },
    "papermill": {
     "duration": 0.027485,
     "end_time": "2021-01-23T13:08:09.948543",
     "exception": false,
     "start_time": "2021-01-23T13:08:09.921058",
     "status": "completed"
    },
    "tags": []
   },
   "outputs": [
    {
     "data": {
      "text/plain": [
       "[0.005, 0.01, 0.015, 0.02, 0.025, 0.03, 0.035]"
      ]
     },
     "execution_count": 12,
     "metadata": {},
     "output_type": "execute_result"
    }
   ],
   "source": [
    "#alfa 1, beta 5, wyparowywanie 0.5 i współczynnik losowy 0.01-0.02\n",
    "alfa = [0.25*(k+1) for k in range(6)]\n",
    "beta = [k+2 for k in range(5)]\n",
    "wyparowywanie = [round(0.1+0.1*(k+1),1) for k in range(7)]\n",
    "losowosc = [0.005*(k+1) for k in range(7)]\n",
    "losowosc"
   ]
  },
  {
   "cell_type": "code",
   "execution_count": 13,
   "metadata": {
    "execution": {
     "iopub.execute_input": "2021-01-23T13:08:09.982291Z",
     "iopub.status.busy": "2021-01-23T13:08:09.981021Z",
     "iopub.status.idle": "2021-01-23T13:08:09.982993Z",
     "shell.execute_reply": "2021-01-23T13:08:09.983491Z"
    },
    "papermill": {
     "duration": 0.020906,
     "end_time": "2021-01-23T13:08:09.983625",
     "exception": false,
     "start_time": "2021-01-23T13:08:09.962719",
     "status": "completed"
    },
    "tags": []
   },
   "outputs": [],
   "source": [
    "#drawAlfa(adf20,adf200,beta[0],wyparowywanie[0],losowosc[0],'20','200','10-3')\n",
    "#drawAlfa(adf20,adf200,beta[2],wyparowywanie[0],losowosc[0],'20','200','10-3')\n",
    "#drawAlfa(adf20,adf200,beta[2],wyparowywanie[5],losowosc[0],'20','200','10-3')\n",
    "#drawAlfa(adf20,adf200,beta[4],wyparowywanie[0],losowosc[0],'20','200','10-3')\n",
    "#drawAlfa(adf20,adf200,beta[4],wyparowywanie[5],losowosc[0],'20','200','10-3')"
   ]
  },
  {
   "cell_type": "code",
   "execution_count": 14,
   "metadata": {
    "execution": {
     "iopub.execute_input": "2021-01-23T13:08:10.016142Z",
     "iopub.status.busy": "2021-01-23T13:08:10.015441Z",
     "iopub.status.idle": "2021-01-23T13:08:10.018725Z",
     "shell.execute_reply": "2021-01-23T13:08:10.019273Z"
    },
    "papermill": {
     "duration": 0.021055,
     "end_time": "2021-01-23T13:08:10.019411",
     "exception": false,
     "start_time": "2021-01-23T13:08:09.998356",
     "status": "completed"
    },
    "tags": []
   },
   "outputs": [],
   "source": [
    "#drawBeta(adf20,adf200,alfa[0],wyparowywanie[0],losowosc[0],'20','200','10-3')\n",
    "#drawBeta(adf20,adf200,alfa[3],wyparowywanie[0],losowosc[0],'20','200','10-3')\n",
    "#drawBeta(adf20,adf200,alfa[3],wyparowywanie[5],losowosc[0],'20','200','10-3')\n",
    "#drawBeta(adf20,adf200,alfa[5],wyparowywanie[0],losowosc[0],'20','200','10-3')\n",
    "#drawBeta(adf20,adf200,alfa[5],wyparowywanie[5],losowosc[0],'20','200','10-3')"
   ]
  },
  {
   "cell_type": "code",
   "execution_count": 15,
   "metadata": {
    "execution": {
     "iopub.execute_input": "2021-01-23T13:08:10.052122Z",
     "iopub.status.busy": "2021-01-23T13:08:10.051439Z",
     "iopub.status.idle": "2021-01-23T13:08:10.054532Z",
     "shell.execute_reply": "2021-01-23T13:08:10.055136Z"
    },
    "papermill": {
     "duration": 0.021067,
     "end_time": "2021-01-23T13:08:10.055289",
     "exception": false,
     "start_time": "2021-01-23T13:08:10.034222",
     "status": "completed"
    },
    "tags": []
   },
   "outputs": [],
   "source": [
    "#drawWyparowanie(adf20,adf200,alfa[0],beta[0],losowosc[0],'20','200','10-3')\n",
    "#drawWyparowanie(adf20,adf200,alfa[5],beta[0],losowosc[0],'20','200','10-3')\n",
    "#drawWyparowanie(adf20,adf200,alfa[0],beta[4],losowosc[0],'20','200','10-3')\n",
    "#drawWyparowanie(adf20,adf200,alfa[5],beta[4],losowosc[0],'20','200','10-3')"
   ]
  },
  {
   "cell_type": "code",
   "execution_count": 16,
   "metadata": {
    "execution": {
     "iopub.execute_input": "2021-01-23T13:08:10.088701Z",
     "iopub.status.busy": "2021-01-23T13:08:10.088023Z",
     "iopub.status.idle": "2021-01-23T13:08:10.091793Z",
     "shell.execute_reply": "2021-01-23T13:08:10.092326Z"
    },
    "papermill": {
     "duration": 0.02175,
     "end_time": "2021-01-23T13:08:10.092469",
     "exception": false,
     "start_time": "2021-01-23T13:08:10.070719",
     "status": "completed"
    },
    "tags": []
   },
   "outputs": [],
   "source": [
    "#drawLosowy(adf20,adf200,alfa[0],beta[0],wyparowywanie[0],'20','200','10-3')\n",
    "#drawLosowy(adf20,adf200,alfa[0],beta[0],wyparowywanie[6],'20','200','10-3')\n",
    "#drawLosowy(adf20,adf200,alfa[5],beta[0],wyparowywanie[0],'20','200','10-3')\n",
    "#drawLosowy(adf20,adf200,alfa[5],beta[0],wyparowywanie[6],'20','200','10-3')\n",
    "#drawLosowy(adf20,adf200,alfa[0],beta[4],wyparowywanie[0],'20','200','10-3')\n",
    "#drawLosowy(adf20,adf200,alfa[0],beta[4],wyparowywanie[6],'20','200','10-3')"
   ]
  }
 ],
 "metadata": {
  "kernelspec": {
   "display_name": "Python 3",
   "language": "python",
   "name": "python3"
  },
  "language_info": {
   "codemirror_mode": {
    "name": "ipython",
    "version": 3
   },
   "file_extension": ".py",
   "mimetype": "text/x-python",
   "name": "python",
   "nbconvert_exporter": "python",
   "pygments_lexer": "ipython3",
   "version": "3.7.6"
  },
  "papermill": {
   "duration": 62.377056,
   "end_time": "2021-01-23T13:08:10.214698",
   "environment_variables": {},
   "exception": null,
   "input_path": "__notebook__.ipynb",
   "output_path": "__notebook__.ipynb",
   "parameters": {},
   "start_time": "2021-01-23T13:07:07.837642",
   "version": "2.1.0"
  }
 },
 "nbformat": 4,
 "nbformat_minor": 4
}
